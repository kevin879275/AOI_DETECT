{
 "metadata": {
  "language_info": {
   "codemirror_mode": {
    "name": "ipython",
    "version": 3
   },
   "file_extension": ".py",
   "mimetype": "text/x-python",
   "name": "python",
   "nbconvert_exporter": "python",
   "pygments_lexer": "ipython3",
   "version": "3.8.5"
  },
  "orig_nbformat": 2,
  "kernelspec": {
   "name": "python385jvsc74a57bd01baa965d5efe3ac65b79dfc60c0d706280b1da80fedb7760faf2759126c4f253",
   "display_name": "Python 3.8.5 64-bit"
  },
  "metadata": {
   "interpreter": {
    "hash": "1baa965d5efe3ac65b79dfc60c0d706280b1da80fedb7760faf2759126c4f253"
   }
  }
 },
 "nbformat": 4,
 "nbformat_minor": 2,
 "cells": [
  {
   "cell_type": "code",
   "execution_count": 1,
   "metadata": {},
   "outputs": [],
   "source": [
    "%run aoi.ipynb"
   ]
  },
  {
   "source": [
    "# Train"
   ],
   "cell_type": "markdown",
   "metadata": {}
  },
  {
   "cell_type": "code",
   "execution_count": 2,
   "metadata": {},
   "outputs": [],
   "source": [
    "from sklearn.multiclass import OneVsRestClassifier\n",
    "from sklearn.svm import SVC\n",
    "import xgboost\n",
    "from sklearn.model_selection import train_test_split"
   ]
  },
  {
   "cell_type": "code",
   "execution_count": 3,
   "metadata": {},
   "outputs": [],
   "source": [
    "# x_train, x_valid, y_train, y_valid = train_test_split(train_img, train_label, test_size = 0.3, random_state = 42)"
   ]
  },
  {
   "cell_type": "code",
   "execution_count": 4,
   "metadata": {},
   "outputs": [],
   "source": [
    "# tsne = TSNE(2, train_img)"
   ]
  },
  {
   "cell_type": "code",
   "execution_count": 5,
   "metadata": {},
   "outputs": [],
   "source": [
    "# clf = SVC(verbose=True).fit(train_img, train_label)"
   ]
  },
  {
   "cell_type": "code",
   "execution_count": 6,
   "metadata": {},
   "outputs": [],
   "source": [
    "# _, clf = LDA(5, train_img, train_label)"
   ]
  },
  {
   "source": [
    "# cumulative explained variance"
   ],
   "cell_type": "markdown",
   "metadata": {}
  },
  {
   "cell_type": "code",
   "execution_count": 7,
   "metadata": {},
   "outputs": [],
   "source": [
    "# pca_batch_data = 256\n",
    "n_compons_rate = 0.8\n",
    "pca = PCA(n_compons_rate)\n",
    "pca.fit(train_img)\n",
    "cum_explained_var_ratio = np.cumsum(pca.explained_variance_ratio_)\n",
    "plt.plot(cum_explained_var_ratio)\n",
    "plt.xlabel('# principal components')\n",
    "plt.ylabel('cumulative explained variance')"
   ]
  },
  {
   "cell_type": "code",
   "execution_count": null,
   "metadata": {},
   "outputs": [],
   "source": [
    "n_compons_rate = 0.8\n",
    "transform_train,pca_inv_img= PCA_decomposition(pca, train_img)"
   ]
  },
  {
   "cell_type": "code",
   "execution_count": null,
   "metadata": {},
   "outputs": [],
   "source": [
    "i = 0\n",
    "re_img = pca_inv_img.reshape((pca_inv_img.shape[0],128,128)).astype(np.uint8)\n",
    "img_pca = Image.fromarray(re_img[i] ,'L')\n",
    "plt.subplot(2,2,1)\n",
    "plt.title('PCA re-img')\n",
    "plt.imshow(img_pca,cmap = \"gray\")\n",
    "plt.subplot(2,2,2)\n",
    "plt.title('Original img')\n",
    "plt.imshow(Image.fromarray(train_img[i].reshape(128,128) ,'L'),cmap = \"gray\")\n",
    "plt.show()"
   ]
  },
  {
   "source": [
    "# XGboost\n",
    "\n"
   ],
   "cell_type": "markdown",
   "metadata": {}
  },
  {
   "cell_type": "code",
   "execution_count": 12,
   "metadata": {},
   "outputs": [],
   "source": [
    "\n",
    "dtrain = xgboost.DMatrix(train_img, train_label)\n",
    "# dval = xgboost.DMatrix(x_valid, y_valid)"
   ]
  },
  {
   "cell_type": "code",
   "execution_count": null,
   "metadata": {},
   "outputs": [],
   "source": [
    "params = {\n",
    "    'max_depth': 5,                 # the maximum depth of each tree\n",
    "    'eta': 0.1,                     # the training step for each iteration\n",
    "    'objective': 'multi:softmax',   # multiclass classification using the softmax objective\n",
    "    'num_class': 6,                 # the number of classes that exist in this datset\n",
    "} "
   ]
  },
  {
   "cell_type": "code",
   "execution_count": 13,
   "metadata": {},
   "outputs": [
    {
     "output_type": "stream",
     "name": "stdout",
     "text": [
      "[16:18:51] WARNING: C:/Users/Administrator/workspace/xgboost-win64_release_1.4.0/src/learner.cc:1095: Starting in XGBoost 1.3.0, the default evaluation metric used with the objective 'multi:softmax' was changed from 'merror' to 'mlogloss'. Explicitly set eval_metric if you'd like to restore the old behavior.\n",
      "[0]\tval-mlogloss:1.79026\ttrain-mlogloss:1.78969\n",
      "[1]\tval-mlogloss:1.78879\ttrain-mlogloss:1.78763\n",
      "[2]\tval-mlogloss:1.78733\ttrain-mlogloss:1.78556\n",
      "[3]\tval-mlogloss:1.78585\ttrain-mlogloss:1.78350\n"
     ]
    }
   ],
   "source": [
    "xgbmodel = xgboost.Booster()\n",
    "# # xgbmodel.load_model('xgboost.model')\n",
    "xgbmodel = xgboost.train(params, dtrain, num_boost_round=200, evals=[(dtrain, 'train')])\n",
    "\n",
    "# xgbmodel.save_model('xgboost.model')"
   ]
  },
  {
   "cell_type": "code",
   "execution_count": null,
   "metadata": {},
   "outputs": [],
   "source": []
  }
 ]
}