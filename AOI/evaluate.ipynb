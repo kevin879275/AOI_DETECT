{
 "metadata": {
  "language_info": {
   "codemirror_mode": {
    "name": "ipython",
    "version": 3
   },
   "file_extension": ".py",
   "mimetype": "text/x-python",
   "name": "python",
   "nbconvert_exporter": "python",
   "pygments_lexer": "ipython3",
   "version": "3.8.5"
  },
  "orig_nbformat": 2,
  "kernelspec": {
   "name": "python385jvsc74a57bd01baa965d5efe3ac65b79dfc60c0d706280b1da80fedb7760faf2759126c4f253",
   "display_name": "Python 3.8.5 64-bit"
  },
  "metadata": {
   "interpreter": {
    "hash": "1baa965d5efe3ac65b79dfc60c0d706280b1da80fedb7760faf2759126c4f253"
   }
  }
 },
 "nbformat": 4,
 "nbformat_minor": 2,
 "cells": [
  {
   "cell_type": "code",
   "execution_count": 1,
   "metadata": {},
   "outputs": [
    {
     "output_type": "stream",
     "name": "stdout",
     "text": [
      "[18:04:22] WARNING: C:/Users/Administrator/workspace/xgboost-win64_release_1.4.0/src/learner.cc:1095: Starting in XGBoost 1.3.0, the default evaluation metric used with the objective 'multi:softmax' was changed from 'merror' to 'mlogloss'. Explicitly set eval_metric if you'd like to restore the old behavior.\n",
      "[0]\tval-mlogloss:1.04651\ttrain-mlogloss:0.71900\n",
      "[1]\tval-mlogloss:1.04285\ttrain-mlogloss:0.71340\n",
      "[2]\tval-mlogloss:1.03923\ttrain-mlogloss:0.70802\n",
      "[3]\tval-mlogloss:1.03552\ttrain-mlogloss:0.70258\n",
      "[4]\tval-mlogloss:1.03174\ttrain-mlogloss:0.69718\n",
      "[5]\tval-mlogloss:1.02814\ttrain-mlogloss:0.69174\n",
      "[6]\tval-mlogloss:1.02454\ttrain-mlogloss:0.68648\n",
      "[7]\tval-mlogloss:1.02104\ttrain-mlogloss:0.68121\n",
      "[8]\tval-mlogloss:1.01764\ttrain-mlogloss:0.67605\n",
      "[9]\tval-mlogloss:1.01435\ttrain-mlogloss:0.67090\n",
      "[10]\tval-mlogloss:1.01105\ttrain-mlogloss:0.66580\n",
      "[11]\tval-mlogloss:1.00752\ttrain-mlogloss:0.66077\n",
      "[12]\tval-mlogloss:1.00408\ttrain-mlogloss:0.65578\n",
      "[13]\tval-mlogloss:1.00052\ttrain-mlogloss:0.65084\n",
      "[14]\tval-mlogloss:0.99735\ttrain-mlogloss:0.64599\n",
      "[15]\tval-mlogloss:0.99386\ttrain-mlogloss:0.64110\n",
      "[16]\tval-mlogloss:0.99076\ttrain-mlogloss:0.63628\n",
      "[17]\tval-mlogloss:0.98745\ttrain-mlogloss:0.63136\n",
      "[18]\tval-mlogloss:0.98412\ttrain-mlogloss:0.62670\n",
      "[19]\tval-mlogloss:0.98073\ttrain-mlogloss:0.62198\n",
      "[20]\tval-mlogloss:0.97744\ttrain-mlogloss:0.61743\n",
      "[21]\tval-mlogloss:0.97437\ttrain-mlogloss:0.61290\n",
      "[22]\tval-mlogloss:0.97112\ttrain-mlogloss:0.60838\n",
      "[23]\tval-mlogloss:0.96816\ttrain-mlogloss:0.60393\n",
      "[24]\tval-mlogloss:0.96492\ttrain-mlogloss:0.59954\n",
      "[25]\tval-mlogloss:0.96184\ttrain-mlogloss:0.59508\n",
      "[26]\tval-mlogloss:0.95883\ttrain-mlogloss:0.59077\n",
      "[27]\tval-mlogloss:0.95580\ttrain-mlogloss:0.58651\n",
      "[28]\tval-mlogloss:0.95265\ttrain-mlogloss:0.58208\n",
      "[29]\tval-mlogloss:0.94961\ttrain-mlogloss:0.57790\n",
      "[30]\tval-mlogloss:0.94652\ttrain-mlogloss:0.57369\n",
      "[31]\tval-mlogloss:0.94354\ttrain-mlogloss:0.56949\n",
      "[32]\tval-mlogloss:0.94078\ttrain-mlogloss:0.56553\n",
      "[33]\tval-mlogloss:0.93779\ttrain-mlogloss:0.56148\n",
      "[34]\tval-mlogloss:0.93494\ttrain-mlogloss:0.55736\n",
      "[35]\tval-mlogloss:0.93210\ttrain-mlogloss:0.55337\n",
      "[36]\tval-mlogloss:0.92936\ttrain-mlogloss:0.54932\n",
      "[37]\tval-mlogloss:0.92666\ttrain-mlogloss:0.54537\n",
      "[38]\tval-mlogloss:0.92379\ttrain-mlogloss:0.54142\n",
      "[39]\tval-mlogloss:0.92102\ttrain-mlogloss:0.53751\n",
      "[40]\tval-mlogloss:0.91815\ttrain-mlogloss:0.53365\n",
      "[41]\tval-mlogloss:0.91555\ttrain-mlogloss:0.52979\n",
      "[42]\tval-mlogloss:0.91277\ttrain-mlogloss:0.52594\n",
      "[43]\tval-mlogloss:0.91004\ttrain-mlogloss:0.52214\n",
      "[44]\tval-mlogloss:0.90752\ttrain-mlogloss:0.51837\n",
      "[45]\tval-mlogloss:0.90494\ttrain-mlogloss:0.51467\n",
      "[46]\tval-mlogloss:0.90228\ttrain-mlogloss:0.51100\n",
      "[47]\tval-mlogloss:0.89968\ttrain-mlogloss:0.50736\n",
      "[48]\tval-mlogloss:0.89709\ttrain-mlogloss:0.50366\n",
      "[49]\tval-mlogloss:0.89448\ttrain-mlogloss:0.49996\n",
      "[50]\tval-mlogloss:0.89200\ttrain-mlogloss:0.49645\n",
      "[51]\tval-mlogloss:0.88946\ttrain-mlogloss:0.49290\n",
      "[52]\tval-mlogloss:0.88693\ttrain-mlogloss:0.48931\n",
      "[53]\tval-mlogloss:0.88441\ttrain-mlogloss:0.48577\n",
      "[54]\tval-mlogloss:0.88186\ttrain-mlogloss:0.48233\n",
      "[55]\tval-mlogloss:0.87953\ttrain-mlogloss:0.47890\n",
      "[56]\tval-mlogloss:0.87715\ttrain-mlogloss:0.47550\n",
      "[57]\tval-mlogloss:0.87471\ttrain-mlogloss:0.47212\n",
      "[58]\tval-mlogloss:0.87239\ttrain-mlogloss:0.46885\n",
      "[59]\tval-mlogloss:0.87004\ttrain-mlogloss:0.46554\n",
      "[60]\tval-mlogloss:0.86776\ttrain-mlogloss:0.46218\n",
      "[61]\tval-mlogloss:0.86555\ttrain-mlogloss:0.45891\n",
      "[62]\tval-mlogloss:0.86327\ttrain-mlogloss:0.45573\n",
      "[63]\tval-mlogloss:0.86111\ttrain-mlogloss:0.45263\n",
      "[64]\tval-mlogloss:0.85892\ttrain-mlogloss:0.44952\n",
      "[65]\tval-mlogloss:0.85681\ttrain-mlogloss:0.44645\n",
      "[66]\tval-mlogloss:0.85468\ttrain-mlogloss:0.44323\n",
      "[67]\tval-mlogloss:0.85244\ttrain-mlogloss:0.44017\n",
      "[68]\tval-mlogloss:0.85037\ttrain-mlogloss:0.43710\n",
      "[69]\tval-mlogloss:0.84824\ttrain-mlogloss:0.43402\n",
      "[70]\tval-mlogloss:0.84609\ttrain-mlogloss:0.43099\n",
      "[71]\tval-mlogloss:0.84414\ttrain-mlogloss:0.42796\n",
      "[72]\tval-mlogloss:0.84207\ttrain-mlogloss:0.42489\n",
      "[73]\tval-mlogloss:0.84001\ttrain-mlogloss:0.42200\n",
      "[74]\tval-mlogloss:0.83792\ttrain-mlogloss:0.41904\n",
      "[75]\tval-mlogloss:0.83596\ttrain-mlogloss:0.41618\n",
      "[76]\tval-mlogloss:0.83397\ttrain-mlogloss:0.41331\n",
      "[77]\tval-mlogloss:0.83193\ttrain-mlogloss:0.41050\n",
      "[78]\tval-mlogloss:0.82989\ttrain-mlogloss:0.40768\n",
      "[79]\tval-mlogloss:0.82788\ttrain-mlogloss:0.40489\n",
      "[80]\tval-mlogloss:0.82581\ttrain-mlogloss:0.40209\n",
      "[81]\tval-mlogloss:0.82380\ttrain-mlogloss:0.39937\n",
      "[82]\tval-mlogloss:0.82181\ttrain-mlogloss:0.39657\n",
      "[83]\tval-mlogloss:0.81974\ttrain-mlogloss:0.39382\n",
      "[84]\tval-mlogloss:0.81778\ttrain-mlogloss:0.39124\n",
      "[85]\tval-mlogloss:0.81583\ttrain-mlogloss:0.38860\n",
      "[86]\tval-mlogloss:0.81391\ttrain-mlogloss:0.38593\n",
      "[87]\tval-mlogloss:0.81196\ttrain-mlogloss:0.38335\n",
      "[88]\tval-mlogloss:0.81002\ttrain-mlogloss:0.38075\n",
      "[89]\tval-mlogloss:0.80802\ttrain-mlogloss:0.37818\n",
      "[90]\tval-mlogloss:0.80609\ttrain-mlogloss:0.37562\n",
      "[91]\tval-mlogloss:0.80407\ttrain-mlogloss:0.37309\n",
      "[92]\tval-mlogloss:0.80230\ttrain-mlogloss:0.37065\n",
      "[93]\tval-mlogloss:0.80053\ttrain-mlogloss:0.36809\n",
      "[94]\tval-mlogloss:0.79852\ttrain-mlogloss:0.36555\n",
      "[95]\tval-mlogloss:0.79672\ttrain-mlogloss:0.36307\n",
      "[96]\tval-mlogloss:0.79486\ttrain-mlogloss:0.36064\n",
      "[97]\tval-mlogloss:0.79307\ttrain-mlogloss:0.35824\n",
      "[98]\tval-mlogloss:0.79123\ttrain-mlogloss:0.35579\n",
      "[99]\tval-mlogloss:0.78938\ttrain-mlogloss:0.35337\n",
      "[100]\tval-mlogloss:0.78753\ttrain-mlogloss:0.35097\n",
      "[101]\tval-mlogloss:0.78563\ttrain-mlogloss:0.34850\n",
      "[102]\tval-mlogloss:0.78384\ttrain-mlogloss:0.34612\n",
      "[103]\tval-mlogloss:0.78215\ttrain-mlogloss:0.34381\n",
      "[104]\tval-mlogloss:0.78034\ttrain-mlogloss:0.34148\n",
      "[105]\tval-mlogloss:0.77855\ttrain-mlogloss:0.33908\n",
      "[106]\tval-mlogloss:0.77683\ttrain-mlogloss:0.33683\n",
      "[107]\tval-mlogloss:0.77513\ttrain-mlogloss:0.33448\n",
      "[108]\tval-mlogloss:0.77332\ttrain-mlogloss:0.33220\n",
      "[109]\tval-mlogloss:0.77167\ttrain-mlogloss:0.32999\n",
      "[110]\tval-mlogloss:0.77011\ttrain-mlogloss:0.32778\n",
      "[111]\tval-mlogloss:0.76833\ttrain-mlogloss:0.32550\n",
      "[112]\tval-mlogloss:0.76683\ttrain-mlogloss:0.32334\n",
      "[113]\tval-mlogloss:0.76527\ttrain-mlogloss:0.32125\n",
      "[114]\tval-mlogloss:0.76376\ttrain-mlogloss:0.31909\n",
      "[115]\tval-mlogloss:0.76226\ttrain-mlogloss:0.31695\n",
      "[116]\tval-mlogloss:0.76067\ttrain-mlogloss:0.31483\n",
      "[117]\tval-mlogloss:0.75903\ttrain-mlogloss:0.31263\n",
      "[118]\tval-mlogloss:0.75748\ttrain-mlogloss:0.31058\n",
      "[119]\tval-mlogloss:0.75606\ttrain-mlogloss:0.30854\n",
      "[120]\tval-mlogloss:0.75457\ttrain-mlogloss:0.30640\n",
      "[121]\tval-mlogloss:0.75308\ttrain-mlogloss:0.30442\n",
      "[122]\tval-mlogloss:0.75167\ttrain-mlogloss:0.30243\n",
      "[123]\tval-mlogloss:0.75002\ttrain-mlogloss:0.30039\n",
      "[124]\tval-mlogloss:0.74855\ttrain-mlogloss:0.29840\n",
      "[125]\tval-mlogloss:0.74708\ttrain-mlogloss:0.29646\n",
      "[126]\tval-mlogloss:0.74560\ttrain-mlogloss:0.29456\n",
      "[127]\tval-mlogloss:0.74431\ttrain-mlogloss:0.29261\n",
      "[128]\tval-mlogloss:0.74282\ttrain-mlogloss:0.29071\n",
      "[129]\tval-mlogloss:0.74148\ttrain-mlogloss:0.28878\n",
      "[130]\tval-mlogloss:0.74006\ttrain-mlogloss:0.28677\n",
      "[131]\tval-mlogloss:0.73866\ttrain-mlogloss:0.28484\n",
      "[132]\tval-mlogloss:0.73720\ttrain-mlogloss:0.28292\n",
      "[133]\tval-mlogloss:0.73593\ttrain-mlogloss:0.28102\n",
      "[134]\tval-mlogloss:0.73448\ttrain-mlogloss:0.27918\n",
      "[135]\tval-mlogloss:0.73317\ttrain-mlogloss:0.27732\n",
      "[136]\tval-mlogloss:0.73176\ttrain-mlogloss:0.27554\n",
      "[137]\tval-mlogloss:0.73047\ttrain-mlogloss:0.27387\n",
      "[138]\tval-mlogloss:0.72908\ttrain-mlogloss:0.27203\n",
      "[139]\tval-mlogloss:0.72796\ttrain-mlogloss:0.27026\n",
      "[140]\tval-mlogloss:0.72667\ttrain-mlogloss:0.26842\n",
      "[141]\tval-mlogloss:0.72528\ttrain-mlogloss:0.26661\n",
      "[142]\tval-mlogloss:0.72394\ttrain-mlogloss:0.26475\n",
      "[143]\tval-mlogloss:0.72254\ttrain-mlogloss:0.26296\n",
      "[144]\tval-mlogloss:0.72128\ttrain-mlogloss:0.26123\n",
      "[145]\tval-mlogloss:0.72012\ttrain-mlogloss:0.25946\n",
      "[146]\tval-mlogloss:0.71878\ttrain-mlogloss:0.25777\n",
      "[147]\tval-mlogloss:0.71766\ttrain-mlogloss:0.25607\n",
      "[148]\tval-mlogloss:0.71645\ttrain-mlogloss:0.25433\n",
      "[149]\tval-mlogloss:0.71523\ttrain-mlogloss:0.25263\n",
      "[150]\tval-mlogloss:0.71423\ttrain-mlogloss:0.25098\n",
      "[151]\tval-mlogloss:0.71305\ttrain-mlogloss:0.24926\n",
      "[152]\tval-mlogloss:0.71191\ttrain-mlogloss:0.24775\n",
      "[153]\tval-mlogloss:0.71066\ttrain-mlogloss:0.24623\n",
      "[154]\tval-mlogloss:0.70941\ttrain-mlogloss:0.24450\n",
      "[155]\tval-mlogloss:0.70832\ttrain-mlogloss:0.24293\n",
      "[156]\tval-mlogloss:0.70723\ttrain-mlogloss:0.24131\n",
      "[157]\tval-mlogloss:0.70623\ttrain-mlogloss:0.23975\n",
      "[158]\tval-mlogloss:0.70515\ttrain-mlogloss:0.23814\n",
      "[159]\tval-mlogloss:0.70399\ttrain-mlogloss:0.23657\n",
      "[160]\tval-mlogloss:0.70286\ttrain-mlogloss:0.23501\n",
      "[161]\tval-mlogloss:0.70184\ttrain-mlogloss:0.23350\n",
      "[162]\tval-mlogloss:0.70089\ttrain-mlogloss:0.23201\n",
      "[163]\tval-mlogloss:0.69979\ttrain-mlogloss:0.23050\n",
      "[164]\tval-mlogloss:0.69892\ttrain-mlogloss:0.22907\n",
      "[165]\tval-mlogloss:0.69790\ttrain-mlogloss:0.22752\n",
      "[166]\tval-mlogloss:0.69668\ttrain-mlogloss:0.22598\n",
      "[167]\tval-mlogloss:0.69561\ttrain-mlogloss:0.22446\n",
      "[168]\tval-mlogloss:0.69466\ttrain-mlogloss:0.22303\n",
      "[169]\tval-mlogloss:0.69356\ttrain-mlogloss:0.22151\n",
      "[170]\tval-mlogloss:0.69245\ttrain-mlogloss:0.22012\n",
      "[171]\tval-mlogloss:0.69143\ttrain-mlogloss:0.21865\n",
      "[172]\tval-mlogloss:0.69032\ttrain-mlogloss:0.21728\n",
      "[173]\tval-mlogloss:0.68932\ttrain-mlogloss:0.21590\n",
      "[174]\tval-mlogloss:0.68827\ttrain-mlogloss:0.21442\n",
      "[175]\tval-mlogloss:0.68720\ttrain-mlogloss:0.21298\n",
      "[176]\tval-mlogloss:0.68624\ttrain-mlogloss:0.21162\n",
      "[177]\tval-mlogloss:0.68530\ttrain-mlogloss:0.21028\n",
      "[178]\tval-mlogloss:0.68426\ttrain-mlogloss:0.20892\n",
      "[179]\tval-mlogloss:0.68318\ttrain-mlogloss:0.20759\n",
      "[180]\tval-mlogloss:0.68217\ttrain-mlogloss:0.20628\n",
      "[181]\tval-mlogloss:0.68123\ttrain-mlogloss:0.20490\n",
      "[182]\tval-mlogloss:0.68012\ttrain-mlogloss:0.20363\n",
      "[183]\tval-mlogloss:0.67910\ttrain-mlogloss:0.20231\n",
      "[184]\tval-mlogloss:0.67814\ttrain-mlogloss:0.20102\n",
      "[185]\tval-mlogloss:0.67710\ttrain-mlogloss:0.19975\n",
      "[186]\tval-mlogloss:0.67615\ttrain-mlogloss:0.19842\n",
      "[187]\tval-mlogloss:0.67515\ttrain-mlogloss:0.19718\n",
      "[188]\tval-mlogloss:0.67406\ttrain-mlogloss:0.19592\n",
      "[189]\tval-mlogloss:0.67311\ttrain-mlogloss:0.19467\n",
      "[190]\tval-mlogloss:0.67208\ttrain-mlogloss:0.19345\n",
      "[191]\tval-mlogloss:0.67103\ttrain-mlogloss:0.19216\n",
      "[192]\tval-mlogloss:0.67020\ttrain-mlogloss:0.19097\n",
      "[193]\tval-mlogloss:0.66918\ttrain-mlogloss:0.18976\n",
      "[194]\tval-mlogloss:0.66826\ttrain-mlogloss:0.18855\n",
      "[195]\tval-mlogloss:0.66730\ttrain-mlogloss:0.18742\n",
      "[196]\tval-mlogloss:0.66646\ttrain-mlogloss:0.18622\n",
      "[197]\tval-mlogloss:0.66556\ttrain-mlogloss:0.18500\n",
      "[198]\tval-mlogloss:0.66463\ttrain-mlogloss:0.18387\n",
      "[199]\tval-mlogloss:0.66378\ttrain-mlogloss:0.18274\n"
     ]
    }
   ],
   "source": [
    "%run train.ipynb"
   ]
  },
  {
   "cell_type": "code",
   "execution_count": 2,
   "metadata": {},
   "outputs": [
    {
     "output_type": "stream",
     "name": "stdout",
     "text": [
      "0.7760210803689065\n"
     ]
    }
   ],
   "source": [
    "print(sum(xgbmodel.predict(dval) == y_valid) / len(y_valid))"
   ]
  },
  {
   "cell_type": "code",
   "execution_count": 3,
   "metadata": {},
   "outputs": [],
   "source": [
    "# load model\n",
    "# print(sum(xgbmodel.predict(dval) == y_valid) / len(y_valid))"
   ]
  },
  {
   "cell_type": "code",
   "execution_count": 4,
   "metadata": {},
   "outputs": [
    {
     "output_type": "stream",
     "name": "stdout",
     "text": [
      "0.9926512153759186\n"
     ]
    }
   ],
   "source": [
    "print(sum(xgbmodel.predict(dtrain) == y_train) / len(y_train))"
   ]
  },
  {
   "source": [
    "# Test"
   ],
   "cell_type": "markdown",
   "metadata": {}
  },
  {
   "cell_type": "code",
   "execution_count": 5,
   "metadata": {},
   "outputs": [],
   "source": [
    "test_img = []\n",
    "test_label = []"
   ]
  },
  {
   "cell_type": "code",
   "execution_count": 6,
   "metadata": {},
   "outputs": [],
   "source": [
    "img = 0\n",
    "for file in os.listdir(test_img_path):\n",
    "    img = Image.open(test_img_path + '/' + file)\n",
    "    im = np.array(img).reshape(-1)\n",
    "    test_img.append(im)\n",
    "test_img = np.array(test_img)"
   ]
  },
  {
   "cell_type": "code",
   "execution_count": 7,
   "metadata": {},
   "outputs": [],
   "source": [
    "dtest = xgboost.DMatrix(test_img)"
   ]
  },
  {
   "cell_type": "code",
   "execution_count": 4,
   "metadata": {},
   "outputs": [],
   "source": [
    "# tsne_test = TSNE(2, test_img)"
   ]
  },
  {
   "cell_type": "code",
   "execution_count": 8,
   "metadata": {},
   "outputs": [],
   "source": [
    "test_y = xgbmodel.predict(dtest)"
   ]
  },
  {
   "cell_type": "code",
   "execution_count": 11,
   "metadata": {},
   "outputs": [
    {
     "output_type": "execute_result",
     "data": {
      "text/plain": [
       "(10142,)"
      ]
     },
     "metadata": {},
     "execution_count": 11
    }
   ],
   "source": []
  },
  {
   "source": [
    "# Submission"
   ],
   "cell_type": "markdown",
   "metadata": {}
  },
  {
   "cell_type": "code",
   "execution_count": 9,
   "metadata": {},
   "outputs": [],
   "source": [
    "import pandas as pd"
   ]
  },
  {
   "cell_type": "code",
   "execution_count": 10,
   "metadata": {},
   "outputs": [],
   "source": [
    "submission = pd.read_csv(test_label_file)"
   ]
  },
  {
   "cell_type": "code",
   "execution_count": 11,
   "metadata": {},
   "outputs": [],
   "source": [
    "for i in range(len(test_y)):\n",
    "    submission.loc[i, 'Label'] = str(test_y[i])"
   ]
  },
  {
   "cell_type": "code",
   "execution_count": 12,
   "metadata": {},
   "outputs": [
    {
     "output_type": "execute_result",
     "data": {
      "text/plain": [
       "                    ID  Label\n",
       "count            10142  10142\n",
       "unique           10142      6\n",
       "top     test_00094.png    0.0\n",
       "freq                 1   4177"
      ],
      "text/html": "<div>\n<style scoped>\n    .dataframe tbody tr th:only-of-type {\n        vertical-align: middle;\n    }\n\n    .dataframe tbody tr th {\n        vertical-align: top;\n    }\n\n    .dataframe thead th {\n        text-align: right;\n    }\n</style>\n<table border=\"1\" class=\"dataframe\">\n  <thead>\n    <tr style=\"text-align: right;\">\n      <th></th>\n      <th>ID</th>\n      <th>Label</th>\n    </tr>\n  </thead>\n  <tbody>\n    <tr>\n      <th>count</th>\n      <td>10142</td>\n      <td>10142</td>\n    </tr>\n    <tr>\n      <th>unique</th>\n      <td>10142</td>\n      <td>6</td>\n    </tr>\n    <tr>\n      <th>top</th>\n      <td>test_00094.png</td>\n      <td>0.0</td>\n    </tr>\n    <tr>\n      <th>freq</th>\n      <td>1</td>\n      <td>4177</td>\n    </tr>\n  </tbody>\n</table>\n</div>"
     },
     "metadata": {},
     "execution_count": 12
    }
   ],
   "source": [
    "submission.describe()"
   ]
  },
  {
   "cell_type": "code",
   "execution_count": 13,
   "metadata": {},
   "outputs": [],
   "source": [
    "submission.to_csv('submissionXGB_2.csv', index=False)"
   ]
  },
  {
   "cell_type": "code",
   "execution_count": null,
   "metadata": {},
   "outputs": [],
   "source": []
  }
 ]
}