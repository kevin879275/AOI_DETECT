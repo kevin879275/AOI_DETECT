{
 "metadata": {
  "language_info": {
   "codemirror_mode": {
    "name": "ipython",
    "version": 3
   },
   "file_extension": ".py",
   "mimetype": "text/x-python",
   "name": "python",
   "nbconvert_exporter": "python",
   "pygments_lexer": "ipython3",
   "version": "3.8.5"
  },
  "orig_nbformat": 2,
  "kernelspec": {
   "name": "python385jvsc74a57bd01baa965d5efe3ac65b79dfc60c0d706280b1da80fedb7760faf2759126c4f253",
   "display_name": "Python 3.8.5 64-bit"
  },
  "metadata": {
   "interpreter": {
    "hash": "1baa965d5efe3ac65b79dfc60c0d706280b1da80fedb7760faf2759126c4f253"
   }
  }
 },
 "nbformat": 4,
 "nbformat_minor": 2,
 "cells": [
  {
   "cell_type": "code",
   "execution_count": 1,
   "metadata": {},
   "outputs": [
    {
     "output_type": "stream",
     "name": "stdout",
     "text": [
      "[t-SNE] Computing 91 nearest neighbors...\n",
      "[t-SNE] Indexed 2528 samples in 0.503s...\n",
      "[t-SNE] Computed neighbors for 2528 samples in 24.765s...\n",
      "[t-SNE] Computed conditional probabilities for sample 1000 / 2528\n",
      "[t-SNE] Computed conditional probabilities for sample 2000 / 2528\n",
      "[t-SNE] Computed conditional probabilities for sample 2528 / 2528\n",
      "[t-SNE] Mean sigma: 2264.397602\n",
      "[t-SNE] KL divergence after 250 iterations with early exaggeration: 97.678612\n",
      "[t-SNE] KL divergence after 1000 iterations: 1.834257\n"
     ]
    }
   ],
   "source": [
    "%run train.ipynb"
   ]
  },
  {
   "source": [
    "# Test"
   ],
   "cell_type": "markdown",
   "metadata": {}
  },
  {
   "cell_type": "code",
   "execution_count": 2,
   "metadata": {},
   "outputs": [],
   "source": [
    "test_img = []\n",
    "test_label = []"
   ]
  },
  {
   "cell_type": "code",
   "execution_count": 3,
   "metadata": {},
   "outputs": [],
   "source": [
    "img = 0\n",
    "for file in os.listdir(test_img_path):\n",
    "    img = Image.open(test_img_path + '/' + file)\n",
    "    im = np.array(img).reshape(-1)\n",
    "    test_img.append(im)\n",
    "test_img = np.array(test_img)"
   ]
  },
  {
   "cell_type": "code",
   "execution_count": 4,
   "metadata": {},
   "outputs": [
    {
     "output_type": "stream",
     "name": "stdout",
     "text": [
      "[t-SNE] Computing 91 nearest neighbors...\n",
      "[t-SNE] Indexed 10142 samples in 2.152s...\n",
      "[t-SNE] Computed neighbors for 10142 samples in 283.862s...\n",
      "[t-SNE] Computed conditional probabilities for sample 1000 / 10142\n",
      "[t-SNE] Computed conditional probabilities for sample 2000 / 10142\n",
      "[t-SNE] Computed conditional probabilities for sample 3000 / 10142\n",
      "[t-SNE] Computed conditional probabilities for sample 4000 / 10142\n",
      "[t-SNE] Computed conditional probabilities for sample 5000 / 10142\n",
      "[t-SNE] Computed conditional probabilities for sample 6000 / 10142\n",
      "[t-SNE] Computed conditional probabilities for sample 7000 / 10142\n",
      "[t-SNE] Computed conditional probabilities for sample 8000 / 10142\n",
      "[t-SNE] Computed conditional probabilities for sample 9000 / 10142\n",
      "[t-SNE] Computed conditional probabilities for sample 10000 / 10142\n",
      "[t-SNE] Computed conditional probabilities for sample 10142 / 10142\n",
      "[t-SNE] Mean sigma: 1748.842260\n",
      "[t-SNE] KL divergence after 250 iterations with early exaggeration: 101.961937\n",
      "[t-SNE] KL divergence after 1000 iterations: 2.752523\n"
     ]
    }
   ],
   "source": [
    "tsne_test = TSNE(2, test_img)"
   ]
  },
  {
   "cell_type": "code",
   "execution_count": 5,
   "metadata": {},
   "outputs": [],
   "source": [
    "test_y = clf.predict(tsne_test)"
   ]
  },
  {
   "source": [
    "# Submission"
   ],
   "cell_type": "markdown",
   "metadata": {}
  },
  {
   "cell_type": "code",
   "execution_count": 6,
   "metadata": {},
   "outputs": [],
   "source": [
    "import pandas as pd"
   ]
  },
  {
   "cell_type": "code",
   "execution_count": 7,
   "metadata": {},
   "outputs": [],
   "source": [
    "submission = pd.read_csv(test_label_file)"
   ]
  },
  {
   "cell_type": "code",
   "execution_count": 12,
   "metadata": {},
   "outputs": [
    {
     "output_type": "execute_result",
     "data": {
      "text/plain": [
       "               ID  Label\n",
       "0  test_00000.png    NaN\n",
       "1  test_00001.png    NaN\n",
       "2  test_00002.png    NaN\n",
       "3  test_00003.png    NaN\n",
       "4  test_00004.png    NaN"
      ],
      "text/html": "<div>\n<style scoped>\n    .dataframe tbody tr th:only-of-type {\n        vertical-align: middle;\n    }\n\n    .dataframe tbody tr th {\n        vertical-align: top;\n    }\n\n    .dataframe thead th {\n        text-align: right;\n    }\n</style>\n<table border=\"1\" class=\"dataframe\">\n  <thead>\n    <tr style=\"text-align: right;\">\n      <th></th>\n      <th>ID</th>\n      <th>Label</th>\n    </tr>\n  </thead>\n  <tbody>\n    <tr>\n      <th>0</th>\n      <td>test_00000.png</td>\n      <td>NaN</td>\n    </tr>\n    <tr>\n      <th>1</th>\n      <td>test_00001.png</td>\n      <td>NaN</td>\n    </tr>\n    <tr>\n      <th>2</th>\n      <td>test_00002.png</td>\n      <td>NaN</td>\n    </tr>\n    <tr>\n      <th>3</th>\n      <td>test_00003.png</td>\n      <td>NaN</td>\n    </tr>\n    <tr>\n      <th>4</th>\n      <td>test_00004.png</td>\n      <td>NaN</td>\n    </tr>\n  </tbody>\n</table>\n</div>"
     },
     "metadata": {},
     "execution_count": 12
    }
   ],
   "source": []
  },
  {
   "cell_type": "code",
   "execution_count": 8,
   "metadata": {},
   "outputs": [],
   "source": [
    "for i in range(len(test_y)):\n",
    "    submission.loc[i, 'Label'] = str(test_y[i])"
   ]
  },
  {
   "cell_type": "code",
   "execution_count": 9,
   "metadata": {},
   "outputs": [
    {
     "output_type": "execute_result",
     "data": {
      "text/plain": [
       "               ID Label\n",
       "0  test_00000.png     0\n",
       "1  test_00001.png     1\n",
       "2  test_00002.png     1\n",
       "3  test_00003.png     0\n",
       "4  test_00004.png     5"
      ],
      "text/html": "<div>\n<style scoped>\n    .dataframe tbody tr th:only-of-type {\n        vertical-align: middle;\n    }\n\n    .dataframe tbody tr th {\n        vertical-align: top;\n    }\n\n    .dataframe thead th {\n        text-align: right;\n    }\n</style>\n<table border=\"1\" class=\"dataframe\">\n  <thead>\n    <tr style=\"text-align: right;\">\n      <th></th>\n      <th>ID</th>\n      <th>Label</th>\n    </tr>\n  </thead>\n  <tbody>\n    <tr>\n      <th>0</th>\n      <td>test_00000.png</td>\n      <td>0</td>\n    </tr>\n    <tr>\n      <th>1</th>\n      <td>test_00001.png</td>\n      <td>1</td>\n    </tr>\n    <tr>\n      <th>2</th>\n      <td>test_00002.png</td>\n      <td>1</td>\n    </tr>\n    <tr>\n      <th>3</th>\n      <td>test_00003.png</td>\n      <td>0</td>\n    </tr>\n    <tr>\n      <th>4</th>\n      <td>test_00004.png</td>\n      <td>5</td>\n    </tr>\n  </tbody>\n</table>\n</div>"
     },
     "metadata": {},
     "execution_count": 9
    }
   ],
   "source": [
    "submission.head()"
   ]
  },
  {
   "cell_type": "code",
   "execution_count": 10,
   "metadata": {},
   "outputs": [],
   "source": [
    "submission.to_csv('submission_tsne.csv', index=False)"
   ]
  },
  {
   "cell_type": "code",
   "execution_count": null,
   "metadata": {},
   "outputs": [],
   "source": []
  }
 ]
}