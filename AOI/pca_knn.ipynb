{
 "cells": [
  {
   "cell_type": "code",
   "execution_count": 4,
   "metadata": {},
   "outputs": [],
   "source": [
    "import numpy as np\n",
    "import os\n",
    "from PIL import Image\n",
    "import csv\n",
    "from sklearn.decomposition import PCA\n",
    "from sklearn.discriminant_analysis import LinearDiscriminantAnalysis\n",
    "from sklearn.utils.validation import check_is_fitted\n",
    "from sklearn.utils import check_array, check_X_y\n",
    "from sklearn import manifold\n",
    "from torchvision import transforms\n",
    "import matplotlib.pyplot as plt\n",
    "from sklearn.model_selection import train_test_split\n",
    "from sklearn.neighbors import KNeighborsClassifier,RadiusNeighborsClassifier\n",
    "from sklearn.utils import shuffle\n",
    "from scipy.sparse import coo_matrix\n",
    "from sklearn.pipeline import make_pipeline\n",
    "from sklearn.preprocessing import StandardScaler\n",
    "from sklearn.metrics import confusion_matrix\n",
    "from sklearn.metrics import classification_report\n",
    "import itertools\n",
    "from keras.utils.np_utils import to_categorical\n",
    "from sklearn.metrics import plot_confusion_matrix"
   ]
  },
  {
   "cell_type": "markdown",
   "metadata": {},
   "source": [
    "# File path"
   ]
  },
  {
   "cell_type": "code",
   "execution_count": 5,
   "metadata": {},
   "outputs": [],
   "source": [
    "train_img_path = './train_images'\n",
    "test_img_path = './test_images'\n",
    "train_label_file = 'train.csv'\n",
    "test_label_file = 'test.csv'"
   ]
  },
  {
   "cell_type": "code",
   "execution_count": 6,
   "metadata": {},
   "outputs": [],
   "source": [
    "train_img = []\n",
    "train_label = []\n",
    "test_img = []"
   ]
  },
  {
   "cell_type": "markdown",
   "metadata": {},
   "source": [
    "# Data Augmentation"
   ]
  },
  {
   "cell_type": "code",
   "execution_count": 7,
   "metadata": {},
   "outputs": [],
   "source": [
    "Is_Rotate = False"
   ]
  },
  {
   "cell_type": "markdown",
   "metadata": {},
   "source": [
    "# LOAD IMAGE"
   ]
  },
  {
   "cell_type": "code",
   "execution_count": 5,
   "metadata": {},
   "outputs": [],
   "source": [
    "img = 0\n",
    "trans_img = 0\n",
    "for file in os.listdir(train_img_path):\n",
    "    img = Image.open(train_img_path + '/' + file).resize((256,256),Image.BILINEAR)\n",
    "    img = img.resize((128,128))\n",
    "    im = np.array(img).reshape(-1)\n",
    "    train_img.append(im)\n",
    "    if Is_Rotate:\n",
    "        l_img = img.rotate(15)\n",
    "        im = np.array(img).reshape(-1)\n",
    "        train_img.append(im)\n",
    "        r_img = img.rotate(-15)\n",
    "        im = np.array(img).reshape(-1)\n",
    "        train_img.append(im)\n",
    "        hori_img = transforms.RandomHorizontalFlip()\n",
    "        vert_img = transforms.RandomVerticalFlip()\n",
    "        pil_img_H = hori_img(img)\n",
    "        pil_img_V = vert_img(img)\n",
    "        train_img.append(np.array(pil_img_H).reshape(-1))\n",
    "        train_img.append(np.array(pil_img_V).reshape(-1))\n",
    "train_img = np.array(train_img)"
   ]
  },
  {
   "cell_type": "code",
   "execution_count": 8,
   "metadata": {},
   "outputs": [
    {
     "data": {
      "text/plain": [
       "{0: 674, 1: 492, 2: 100, 3: 378, 4: 240, 5: 644}"
      ]
     },
     "execution_count": 8,
     "metadata": {},
     "output_type": "execute_result"
    }
   ],
   "source": [
    "i = 0\n",
    "d = {0:0,1:0,2:0,3:0,4:0,5:0}\n",
    "with open(train_label_file, newline = '') as csvfile:\n",
    "    rows = csv.reader(csvfile)\n",
    "    for row in rows:\n",
    "        if i != 0:\n",
    "            d[int(row[1])] += 1\n",
    "            train_label.append(int(row[1]))\n",
    "            if Is_Rotate:\n",
    "                train_label.append(int(row[1]))\n",
    "                train_label.append(int(row[1]))\n",
    "                train_label.append(int(row[1]))\n",
    "                train_label.append(int(row[1]))\n",
    "        i = i + 1\n",
    "train_label = np.array(train_label)\n",
    "d\n",
    "#train_label.shape"
   ]
  },
  {
   "cell_type": "code",
   "execution_count": 7,
   "metadata": {},
   "outputs": [],
   "source": [
    "train_img_sparse = coo_matrix(train_img)\n",
    "train_img,train_img_sparse,train_label = shuffle(train_img,train_img_sparse,train_label,random_state=0)"
   ]
  },
  {
   "cell_type": "code",
   "execution_count": 8,
   "metadata": {},
   "outputs": [],
   "source": [
    "# img = 0\n",
    "# trans_img = 0\n",
    "# test_img=[]\n",
    "# for file in os.listdir(test_img_path):\n",
    "#     img = Image.open(test_img_path + '/' + file).resize((128,128),Image.BILINEAR)\n",
    "#     im = np.array(img).reshape(-1)\n",
    "#     test_img.append(im)\n",
    "    \n",
    "# test_img = np.array(test_img)\n",
    "#img"
   ]
  },
  {
   "cell_type": "code",
   "execution_count": 9,
   "metadata": {},
   "outputs": [
    {
     "data": {
      "text/plain": [
       "(12640, 16384)"
      ]
     },
     "execution_count": 9,
     "metadata": {},
     "output_type": "execute_result"
    }
   ],
   "source": [
    "train_img.shape\n",
    "#test_img.shape"
   ]
  },
  {
   "cell_type": "markdown",
   "metadata": {},
   "source": [
    "# Predict Function"
   ]
  },
  {
   "cell_type": "code",
   "execution_count": 10,
   "metadata": {},
   "outputs": [],
   "source": [
    "def predict_accuracy(y, y_hat):\n",
    "    return sum(y == y_hat) / y.shape[0]"
   ]
  },
  {
   "cell_type": "markdown",
   "metadata": {},
   "source": [
    "# PCA"
   ]
  },
  {
   "cell_type": "code",
   "execution_count": 11,
   "metadata": {},
   "outputs": [],
   "source": [
    "def PCA_decomposition(pca, train_img):\n",
    "    #pca = PCA(n_components=n_components)\n",
    "    pipe = make_pipeline(StandardScaler(),pca)\n",
    "    pca_img = pca.transform(train_img)\n",
    "    pca_inv_img = pca.inverse_transform(pca_img)\n",
    "#     img_compressed = (np.stack(pca_inv_img[-1],axis = 0)).astype(np.uint8)\n",
    "#     img_pca = Image.fromarray(img_compressed.reshape(train_img.shape), 'L')\n",
    "    return pca_img, pca_inv_img\n",
    "    #     return pca_img"
   ]
  },
  {
   "cell_type": "markdown",
   "metadata": {},
   "source": [
    "# split train and validation set"
   ]
  },
  {
   "cell_type": "code",
   "execution_count": 12,
   "metadata": {},
   "outputs": [],
   "source": [
    "# use train image to split train and valid set \n",
    "X_train,X_test,Y_train,Y_test = train_test_split(train_img,train_label,test_size=0.0001,random_state=42)\n",
    "\n",
    "#or use test image\n",
    "\n",
    "# X_train = train_img\n",
    "# Y_train = train_label\n",
    "# X_test = test_img"
   ]
  },
  {
   "cell_type": "code",
   "execution_count": 13,
   "metadata": {},
   "outputs": [
    {
     "name": "stdout",
     "output_type": "stream",
     "text": [
      "X_train shape: (6320, 16384)\n",
      "Y_train shape: (6320,)\n",
      "X_test shape: (6320, 16384)\n",
      "Y_test shape: (6320,)\n"
     ]
    }
   ],
   "source": [
    "print(\"X_train shape:\",X_train.shape)\n",
    "print(\"Y_train shape:\",Y_train.shape)\n",
    "print(\"X_test shape:\",X_test.shape)\n",
    "print(\"Y_test shape:\",Y_test.shape)"
   ]
  },
  {
   "cell_type": "code",
   "execution_count": 14,
   "metadata": {},
   "outputs": [],
   "source": [
    "scaler = StandardScaler()\n",
    "X_train = scaler.fit_transform(X_train)\n",
    "X_test = scaler.fit_transform(X_test)\n",
    "# X_train = X_train / 255."
   ]
  },
  {
   "cell_type": "markdown",
   "metadata": {},
   "source": [
    "# cumulative explained variance"
   ]
  },
  {
   "cell_type": "code",
   "execution_count": 15,
   "metadata": {},
   "outputs": [
    {
     "data": {
      "text/plain": [
       "Text(0, 0.5, 'cumulative explained variance')"
      ]
     },
     "execution_count": 15,
     "metadata": {},
     "output_type": "execute_result"
    },
    {
     "data": {
      "image/png": "[encoded data removed]",
      "text/plain": [
       "<Figure size 432x288 with 1 Axes>"
      ]
     },
     "metadata": {
      "needs_background": "light"
     },
     "output_type": "display_data"
    }
   ],
   "source": [
    "# pca_batch_data = 256\n",
    "n_compons_rate = 0.8\n",
    "pca = PCA(n_compons_rate)\n",
    "pca.fit(X_train)\n",
    "cum_explained_var_ratio = np.cumsum(pca.explained_variance_ratio_)\n",
    "plt.plot(cum_explained_var_ratio)\n",
    "plt.xlabel('# principal components')\n",
    "plt.ylabel('cumulative explained variance')"
   ]
  },
  {
   "cell_type": "code",
   "execution_count": 32,
   "metadata": {},
   "outputs": [
    {
     "data": {
      "image/png": "[encoded data removed]",
      "text/plain": [
       "<Figure size 432x288 with 1 Axes>"
      ]
     },
     "metadata": {
      "needs_background": "light"
     },
     "output_type": "display_data"
    }
   ],
   "source": [
    "plt.plot(pca.explained_variance_,linewidth=2)\n",
    "plt.xlabel('components_n', fontsize=16)\n",
    "plt.ylabel('explained_variance_',fontsize=16)\n",
    "plt.show()"
   ]
  },
  {
   "cell_type": "code",
   "execution_count": 16,
   "metadata": {
    "scrolled": true
   },
   "outputs": [
    {
     "name": "stdout",
     "output_type": "stream",
     "text": [
      "[8626.41440257  882.32319673  772.8358177   243.40322887  164.40130703\n",
      "  144.13221395  109.28872689   90.25317006   73.73865283   64.82362466\n",
      "   60.27208332   59.01226714   54.89898779   49.47718236   47.28163041\n",
      "   45.17877802   42.16014496   41.71238296   41.06268449   39.92952953\n",
      "   39.3783112    38.27052539   37.16637093   35.68579772   35.62528815\n",
      "   34.69449676   33.85483861   32.43737354   32.26910817   31.84908579\n",
      "   31.00121468   30.70231872   30.02342564   29.56572307   29.21659842\n",
      "   28.37566517   28.14907086   27.79913973   27.65766841   26.75461274\n",
      "   26.11711266   25.93442275   25.65795015   25.55508073   25.06217446\n",
      "   24.78747673   24.35645481   24.04199264   23.7731843    23.14590056\n",
      "   23.02615928   22.82491136   22.53187874   22.39046715   21.66929196\n",
      "   21.62893905   21.46721202   21.2274465    20.97141103   20.85524657\n",
      "   20.43808476   20.23555517   20.09091772   19.9887702    19.69250474\n",
      "   19.29518589   19.06841345   18.80001324   18.56202018   18.16153784\n",
      "   18.12192473   17.66065998   17.36429318   17.19213982   16.85313018\n",
      "   16.78858447   16.47738277   16.40807856   16.20168648   15.97793354]\n",
      "[[ 0.00713024  0.00718767  0.00726576 ...  0.0073734   0.00732843\n",
      "   0.00721778]\n",
      " [-0.01189903 -0.0119214  -0.01206916 ...  0.01203576  0.01231321\n",
      "   0.01243092]\n",
      " [ 0.00674783  0.00669731  0.00633988 ...  0.00580463  0.00563204\n",
      "   0.00542135]\n",
      " ...\n",
      " [ 0.01339706  0.01378444  0.01421666 ... -0.00131362 -0.00103994\n",
      "  -0.00194004]\n",
      " [ 0.001257    0.00104297 -0.00011702 ...  0.00085636  0.00323331\n",
      "   0.00334599]\n",
      " [ 0.00888917  0.00979933  0.01079464 ...  0.00443767  0.00305535\n",
      "   0.00295916]]\n"
     ]
    }
   ],
   "source": [
    "print(pca.explained_variance_)\n",
    "print(pca.components_)"
   ]
  },
  {
   "cell_type": "code",
   "execution_count": 17,
   "metadata": {},
   "outputs": [],
   "source": [
    "\n",
    "# pca_train_img,pca_inv_img= PCA_decomposition(n_compons_rate,X_train[:pca_batch_data])\n",
    "# for i in range(pca_batch_data,X_train.shape[0],pca_data):\n",
    "#         try:\n",
    "#             pca_img,_= PCA_decomposition(n_comp,X_train[i:i+pca_batch_data])\n",
    "#             print(pca_img.shape)\n",
    "#             pca_train_img = np.concatenate([pca_train_img,pca_img])\n",
    "#         except:\n",
    "#             print(X_train[i:i+pca_data].shape)\n"
   ]
  },
  {
   "cell_type": "markdown",
   "metadata": {},
   "source": [
    "# PCA降維 reconstruct結果"
   ]
  },
  {
   "cell_type": "code",
   "execution_count": 18,
   "metadata": {},
   "outputs": [],
   "source": [
    "n_compons_rate = 0.8\n",
    "transform_train,pca_inv_img= PCA_decomposition(pca,X_train)"
   ]
  },
  {
   "cell_type": "code",
   "execution_count": 19,
   "metadata": {},
   "outputs": [
    {
     "name": "stdout",
     "output_type": "stream",
     "text": [
      "label =  1\n"
     ]
    },
    {
     "data": {
      "image/png": "[encoded data removed]",
      "text/plain": [
       "<Figure size 432x288 with 2 Axes>"
      ]
     },
     "metadata": {
      "needs_background": "light"
     },
     "output_type": "display_data"
    }
   ],
   "source": [
    "i = 37\n",
    "print(\"label = \", Y_train[i])\n",
    "re_img = pca_inv_img.reshape((pca_inv_img.shape[0],128,128)).astype(np.uint8)\n",
    "img_pca = Image.fromarray(re_img[i] ,'L')\n",
    "plt.subplot(2,2,1)\n",
    "plt.title('PCA re-img')\n",
    "plt.imshow(img_pca,cmap = \"gray\")\n",
    "plt.subplot(2,2,2)\n",
    "plt.title('Original img')\n",
    "plt.imshow(Image.fromarray(X_train[i].reshape(128,128) ,'L'),cmap = \"gray\")\n",
    "plt.show()"
   ]
  },
  {
   "cell_type": "code",
   "execution_count": 20,
   "metadata": {},
   "outputs": [],
   "source": [
    "transform_test = pca.transform(X_test)\n",
    "# for i in range(pca_data,X_test.shape[0],pca_data):\n",
    "#     try:\n",
    "#         pca_t_img,_ = PCA_decomposition(n_comp,X_test[i:i+pca_data])\n",
    "#         pca_test_img = np.concatenate([pca_test_img,pca_t_img])\n",
    "#     except:\n",
    "#         re_test = (int(X_test[i:i+pca_data].shape[0]*0.9))\n",
    "#         print(re_test)\n",
    "#         pca_remain_img ,_= PCA_decomposition(re_test,X_test[i:i+pca_data])"
   ]
  },
  {
   "cell_type": "code",
   "execution_count": 21,
   "metadata": {},
   "outputs": [
    {
     "data": {
      "text/plain": [
       "((6320, 80), (6320, 80))"
      ]
     },
     "execution_count": 21,
     "metadata": {},
     "output_type": "execute_result"
    }
   ],
   "source": [
    "transform_train.shape, transform_test.shape"
   ]
  },
  {
   "cell_type": "code",
   "execution_count": 22,
   "metadata": {},
   "outputs": [
    {
     "data": {
      "text/plain": [
       "array([1, 1, 1, ..., 0, 3, 1])"
      ]
     },
     "execution_count": 22,
     "metadata": {},
     "output_type": "execute_result"
    }
   ],
   "source": [
    "knn = KNeighborsClassifier(n_neighbors=5)\n",
    "knn.fit(transform_train,Y_train)\n",
    "res = knn.predict(transform_test)\n",
    "res"
   ]
  },
  {
   "cell_type": "code",
   "execution_count": 23,
   "metadata": {},
   "outputs": [
    {
     "data": {
      "text/plain": [
       "0.9428797468354431"
      ]
     },
     "execution_count": 23,
     "metadata": {},
     "output_type": "execute_result"
    }
   ],
   "source": [
    "ans = predict_accuracy(res,Y_test)\n",
    "ans"
   ]
  },
  {
   "cell_type": "code",
   "execution_count": null,
   "metadata": {},
   "outputs": [],
   "source": []
  },
  {
   "cell_type": "markdown",
   "metadata": {},
   "source": [
    "## SVM test"
   ]
  },
  {
   "cell_type": "code",
   "execution_count": 24,
   "metadata": {},
   "outputs": [],
   "source": [
    "# from sklearn import svm"
   ]
  },
  {
   "cell_type": "code",
   "execution_count": 25,
   "metadata": {},
   "outputs": [],
   "source": [
    "# clf = svm.SVC()\n",
    "# clf.fit(transform_train,Y_train)\n",
    "# res = clf.predict(transform_test)\n",
    "# res"
   ]
  },
  {
   "cell_type": "code",
   "execution_count": 26,
   "metadata": {},
   "outputs": [],
   "source": [
    "# dic = {0 : 0, 1 : 0, 2 : 0, 3: 0, 4: 0, 5 : 0}\n",
    "# for i in range(len(res)):\n",
    "#     if res[i] != Y_test[i]:\n",
    "#         dic[Y_test[i]] += 1\n",
    "# dic"
   ]
  },
  {
   "cell_type": "code",
   "execution_count": 27,
   "metadata": {},
   "outputs": [],
   "source": [
    "# ans = predict_accuracy(res,Y_test)\n",
    "# ans"
   ]
  },
  {
   "cell_type": "code",
   "execution_count": 28,
   "metadata": {},
   "outputs": [],
   "source": [
    "# import pandas as pd\n",
    "# df = pd.read_csv(test_label_file)\n",
    "# df = df.loc[:,['ID','Label']]\n",
    "# df.Label = res.astype(int)\n",
    "# df.head()\n",
    "# df.to_csv('submission.csv', index=False)"
   ]
  },
  {
   "cell_type": "code",
   "execution_count": 29,
   "metadata": {},
   "outputs": [],
   "source": [
    "import numpy as np\n",
    "\n",
    "class Encoder(object):\n",
    "    def __init__(self,class_number,start_with=0):\n",
    "        self._start_with = 0\n",
    "        self._n_class = class_number\n",
    "    \n",
    "    def one_hot_encode(self,x):\n",
    "        y = np.zeros(self._n_class,dtype=float)\n",
    "        y[x - self._start_with] = 1\n",
    "        return y\n",
    "    \n",
    "    def label(self,X):\n",
    "        return np.argmax(X) + self._start_with"
   ]
  },
  {
   "cell_type": "code",
   "execution_count": 30,
   "metadata": {},
   "outputs": [],
   "source": [
    "encoder = Encoder(6)"
   ]
  },
  {
   "cell_type": "code",
   "execution_count": 1,
   "metadata": {},
   "outputs": [
    {
     "ename": "NameError",
     "evalue": "name 'res' is not defined",
     "output_type": "error",
     "traceback": [
      "\u001b[1;31m---------------------------------------------------------------------------\u001b[0m",
      "\u001b[1;31mNameError\u001b[0m                                 Traceback (most recent call last)",
      "\u001b[1;32m<ipython-input-1-3065f3b98896>\u001b[0m in \u001b[0;36m<module>\u001b[1;34m\u001b[0m\n\u001b[1;32m----> 1\u001b[1;33m \u001b[0my_pred\u001b[0m \u001b[1;33m=\u001b[0m \u001b[0mres\u001b[0m\u001b[1;33m\u001b[0m\u001b[1;33m\u001b[0m\u001b[0m\n\u001b[0m\u001b[0;32m      2\u001b[0m \u001b[0my_true\u001b[0m \u001b[1;33m=\u001b[0m \u001b[0mY_test\u001b[0m\u001b[1;33m\u001b[0m\u001b[1;33m\u001b[0m\u001b[0m\n\u001b[0;32m      3\u001b[0m \u001b[1;31m#y_pred = to_categorical(res, num_classes=6)\u001b[0m\u001b[1;33m\u001b[0m\u001b[1;33m\u001b[0m\u001b[1;33m\u001b[0m\u001b[0m\n\u001b[0;32m      4\u001b[0m \u001b[1;31m#y_true = to_categorical(Y_test, num_classes=6)\u001b[0m\u001b[1;33m\u001b[0m\u001b[1;33m\u001b[0m\u001b[1;33m\u001b[0m\u001b[0m\n\u001b[0;32m      5\u001b[0m \u001b[0mtarget_names\u001b[0m \u001b[1;33m=\u001b[0m \u001b[1;33m[\u001b[0m \u001b[1;34m'Normal'\u001b[0m\u001b[1;33m,\u001b[0m\u001b[1;34m'Void'\u001b[0m \u001b[1;33m,\u001b[0m\u001b[1;34m'Hor'\u001b[0m\u001b[1;33m,\u001b[0m\u001b[1;34m'Ver'\u001b[0m\u001b[1;33m,\u001b[0m\u001b[1;34m'Edge'\u001b[0m\u001b[1;33m,\u001b[0m\u001b[1;34m'Par'\u001b[0m\u001b[1;33m]\u001b[0m\u001b[1;33m\u001b[0m\u001b[1;33m\u001b[0m\u001b[0m\n",
      "\u001b[1;31mNameError\u001b[0m: name 'res' is not defined"
     ]
    }
   ],
   "source": [
    "# y_pred = res\n",
    "# y_true = Y_test\n",
    "# #y_pred = to_categorical(res, num_classes=6)\n",
    "# #y_true = to_categorical(Y_test, num_classes=6)\n",
    "# target_names = [ 'Normal','Void' ,'Hor','Ver','Edge','Par']\n",
    "# #print (\"PCA + SVC\")\n",
    "# print(classification_report(y_true, y_pred, target_names=target_names))\n",
    "# print (\"**************************************************************\")\n",
    "\n",
    "# plt.figure(figsize=(100, 100))\n",
    "# #cnf_matrix = confusion_matrix(y_true, y_pred)\n",
    "# disp = plot_confusion_matrix(knn, transform_test,Y_test, display_labels=target_names,normalize='true')\n",
    "# disp.ax_.set_title(\"PCA + KNN Predict Confusion Matrix\")\n",
    "\n",
    "# plt.show()"
   ]
  },
  {
   "cell_type": "code",
   "execution_count": null,
   "metadata": {},
   "outputs": [],
   "source": []
  }
 ],
 "metadata": {
  "kernelspec": {
   "display_name": "Python 3",
   "language": "python",
   "name": "python3"
  },
  "language_info": {
   "codemirror_mode": {
    "name": "ipython",
    "version": 3
   },
   "file_extension": ".py",
   "mimetype": "text/x-python",
   "name": "python",
   "nbconvert_exporter": "python",
   "pygments_lexer": "ipython3",
   "version": "3.8.5"
  },
  "metadata": {
   "interpreter": {
    "hash": "767d51c1340bd893661ea55ea3124f6de3c7a262a8b4abca0554b478b1e2ff90"
   }
  }
 },
 "nbformat": 4,
 "nbformat_minor": 4
}
