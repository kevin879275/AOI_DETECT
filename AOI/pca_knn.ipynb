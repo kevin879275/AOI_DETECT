{
 "cells": [
  {
   "cell_type": "code",
   "execution_count": 16,
   "metadata": {},
   "outputs": [],
   "source": [
    "import numpy as np\n",
    "import os\n",
    "from PIL import Image\n",
    "import csv\n",
    "from sklearn.decomposition import PCA\n",
    "from sklearn.discriminant_analysis import LinearDiscriminantAnalysis\n",
    "from sklearn.utils.validation import check_is_fitted\n",
    "from sklearn.utils import check_array, check_X_y\n",
    "from sklearn import manifold\n",
    "from torchvision import transforms\n",
    "import matplotlib.pyplot as plt\n",
    "from sklearn.model_selection import train_test_split\n",
    "from sklearn.neighbors import KNeighborsClassifier,RadiusNeighborsClassifier\n",
    "from sklearn.utils import shuffle\n",
    "from scipy.sparse import coo_matrix\n",
    "\n",
    "from sklearn.pipeline import make_pipeline\n",
    "from sklearn.preprocessing import StandardScaler"
   ]
  },
  {
   "cell_type": "code",
   "execution_count": 17,
   "metadata": {},
   "outputs": [],
   "source": [
    "# File path"
   ]
  },
  {
   "cell_type": "code",
   "execution_count": 18,
   "metadata": {},
   "outputs": [],
   "source": [
    "train_img_path = './train_images'\n",
    "test_img_path = './test_images'\n",
    "train_label_file = 'train.csv'\n",
    "test_label_file = 'test.csv'"
   ]
  },
  {
   "cell_type": "code",
   "execution_count": 19,
   "metadata": {},
   "outputs": [],
   "source": [
    "train_img = []\n",
    "train_label = []\n",
    "test_img = []"
   ]
  },
  {
   "cell_type": "markdown",
   "metadata": {},
   "source": [
    "# Data Augmentation"
   ]
  },
  {
   "cell_type": "code",
   "execution_count": 20,
   "metadata": {},
   "outputs": [],
   "source": [
    "Is_Rotate = True"
   ]
  },
  {
   "cell_type": "markdown",
   "metadata": {},
   "source": [
    "# LOAD IMAGE"
   ]
  },
  {
   "cell_type": "code",
   "execution_count": 21,
   "metadata": {},
   "outputs": [],
   "source": [
    "img = 0\n",
    "trans_img = 0\n",
    "for file in os.listdir(train_img_path):\n",
    "    img = Image.open(train_img_path + '/' + file).resize((256,256),Image.BILINEAR)\n",
    "    im = np.array(img).reshape(-1)\n",
    "    train_img.append(im)\n",
    "    if Is_Rotate:\n",
    "        hori_img = transforms.RandomHorizontalFlip()\n",
    "        vert_img = transforms.RandomVerticalFlip()\n",
    "        pil_img_H = hori_img(img)\n",
    "        pil_img_V = vert_img(img)\n",
    "        train_img.append(np.array(pil_img_H).reshape(-1))\n",
    "        train_img.append(np.array(pil_img_V).reshape(-1))\n",
    "train_img = np.array(train_img)\n",
    "\n"
   ]
  },
  {
   "cell_type": "code",
   "execution_count": 22,
   "metadata": {},
   "outputs": [
    {
     "data": {
      "text/plain": [
       "(7584,)"
      ]
     },
     "execution_count": 22,
     "metadata": {},
     "output_type": "execute_result"
    }
   ],
   "source": [
    "i = 0\n",
    "with open(train_label_file, newline = '') as csvfile:\n",
    "    rows = csv.reader(csvfile)\n",
    "    for row in rows:\n",
    "        if i != 0:\n",
    "            train_label.append(int(row[1]))\n",
    "            if Is_Rotate:\n",
    "                train_label.append(int(row[1]))\n",
    "                train_label.append(int(row[1]))\n",
    "        i = i + 1\n",
    "train_label = np.array(train_label)\n",
    "train_label.shape"
   ]
  },
  {
   "cell_type": "code",
   "execution_count": 23,
   "metadata": {},
   "outputs": [],
   "source": [
    "train_img_sparse = coo_matrix(train_img)\n",
    "train_img,train_img_sparse,train_label = shuffle(train_img,train_img_sparse,train_label,random_state=0)"
   ]
  },
  {
   "cell_type": "code",
   "execution_count": 24,
   "metadata": {},
   "outputs": [],
   "source": [
    "img = 0\n",
    "trans_img = 0\n",
    "test_img=[]\n",
    "for file in os.listdir(test_img_path):\n",
    "    img = Image.open(test_img_path + '/' + file).resize((256,256),Image.BILINEAR)\n",
    "    im = np.array(img).reshape(-1)\n",
    "    test_img.append(im)\n",
    "    \n",
    "test_img = np.array(test_img)\n",
    "#img"
   ]
  },
  {
   "cell_type": "code",
   "execution_count": 25,
   "metadata": {},
   "outputs": [
    {
     "data": {
      "text/plain": [
       "(10142, 65536)"
      ]
     },
     "execution_count": 25,
     "metadata": {},
     "output_type": "execute_result"
    }
   ],
   "source": [
    "train_img.shape\n",
    "test_img.shape"
   ]
  },
  {
   "cell_type": "markdown",
   "metadata": {},
   "source": [
    "# Predict Function"
   ]
  },
  {
   "cell_type": "code",
   "execution_count": 26,
   "metadata": {},
   "outputs": [],
   "source": [
    "def predict_accuracy(y, y_hat):\n",
    "    return sum(y == y_hat) / y.shape[0]"
   ]
  },
  {
   "cell_type": "markdown",
   "metadata": {},
   "source": [
    "# PCA"
   ]
  },
  {
   "cell_type": "code",
   "execution_count": 27,
   "metadata": {},
   "outputs": [],
   "source": [
    "def PCA_decomposition(n_components, train_img):\n",
    "    \n",
    "    pca = PCA(n_components=n_components)\n",
    "    pipe = make_pipeline(StandardScaler(),pca)\n",
    "    pca_img = pca.fit_transform(train_img)\n",
    "    pca_inv_img = pca.inverse_transform(pca_img)\n",
    "#     img_compressed = (np.stack(pca_inv_img[-1],axis = 0)).astype(np.uint8)\n",
    "#     img_pca = Image.fromarray(img_compressed.reshape(train_img.shape), 'L')\n",
    "    return pca_img, pca_inv_img\n",
    "    #     return pca_img"
   ]
  },
  {
   "cell_type": "markdown",
   "metadata": {},
   "source": [
    "# split train and validation set"
   ]
  },
  {
   "cell_type": "code",
   "execution_count": 37,
   "metadata": {},
   "outputs": [],
   "source": [
    "# use train image to split train and valid set \n",
    "X_train,X_test,Y_train,Y_test = train_test_split(train_img,train_label,test_size=0.8,random_state=42)\n",
    "\n",
    "#or use test image\n",
    "\n",
    "# X_train = train_img\n",
    "# Y_train = train_label\n",
    "# X_test = test_img"
   ]
  },
  {
   "cell_type": "code",
   "execution_count": 39,
   "metadata": {},
   "outputs": [
    {
     "name": "stdout",
     "output_type": "stream",
     "text": [
      "X_train shape: (1516, 65536)\n",
      "Y_train shape: (1516,)\n",
      "X_test shape: (6068, 65536)\n",
      "Y_test shape: (6068,)\n"
     ]
    }
   ],
   "source": [
    "print(\"X_train shape:\",X_train.shape)\n",
    "print(\"Y_train shape:\",Y_train.shape)\n",
    "print(\"X_test shape:\",X_test.shape)\n",
    "print(\"Y_test shape:\",Y_test.shape)"
   ]
  },
  {
   "cell_type": "markdown",
   "metadata": {},
   "source": [
    "# cumulative explained variance"
   ]
  },
  {
   "cell_type": "code",
   "execution_count": 44,
   "metadata": {},
   "outputs": [
    {
     "data": {
      "text/plain": [
       "Text(0, 0.5, 'cumulative explained variance')"
      ]
     },
     "execution_count": 44,
     "metadata": {},
     "output_type": "execute_result"
    },
    {
     "data": {
      "image/png": "[encoded data removed]",
      "text/plain": [
       "<Figure size 432x288 with 1 Axes>"
      ]
     },
     "metadata": {
      "needs_background": "light"
     },
     "output_type": "display_data"
    }
   ],
   "source": [
    "\n",
    "# pca_batch_data = 256\n",
    "n_compons_rate = 0.8\n",
    "pca = PCA(n_compons_rate)\n",
    "pca.fit(X_train)\n",
    "cum_explained_var_ratio = np.cumsum(pca.explained_variance_ratio_)\n",
    "plt.plot(cum_explained_var_ratio)\n",
    "plt.xlabel('# principal components')\n",
    "plt.ylabel('cumulative explained variance')"
   ]
  },
  {
   "cell_type": "code",
   "execution_count": 45,
   "metadata": {},
   "outputs": [],
   "source": [
    "\n",
    "# pca_train_img,pca_inv_img= PCA_decomposition(n_compons_rate,X_train[:pca_batch_data])\n",
    "# for i in range(pca_batch_data,X_train.shape[0],pca_data):\n",
    "#         try:\n",
    "#             pca_img,_= PCA_decomposition(n_comp,X_train[i:i+pca_batch_data])\n",
    "#             print(pca_img.shape)\n",
    "#             pca_train_img = np.concatenate([pca_train_img,pca_img])\n",
    "#         except:\n",
    "#             print(X_train[i:i+pca_data].shape)\n"
   ]
  },
  {
   "cell_type": "markdown",
   "metadata": {},
   "source": [
    "# PCA降維 reconstruct結果"
   ]
  },
  {
   "cell_type": "code",
   "execution_count": 49,
   "metadata": {},
   "outputs": [
    {
     "data": {
      "image/png": "[encoded data removed]",
      "text/plain": [
       "<Figure size 432x288 with 2 Axes>"
      ]
     },
     "metadata": {
      "needs_background": "light"
     },
     "output_type": "display_data"
    }
   ],
   "source": [
    "n_compons_rate = 0.8\n",
    "i = 0\n",
    "\n",
    "transform_train,pca_inv_img= PCA_decomposition(n_compons_rate,X_train)\n",
    "re_img = pca_inv_img.reshape((pca_inv_img.shape[0],256,256)).astype(np.uint8)\n",
    "img_pca = Image.fromarray(re_img[i] ,'L')\n",
    "plt.subplot(2,2,1)\n",
    "plt.title('PCA re-img')\n",
    "plt.imshow(img_pca)\n",
    "plt.subplot(2,2,2)\n",
    "plt.title('Original img')\n",
    "plt.imshow(Image.fromarray(X_train[i].reshape(256,256) ,'L'))\n",
    "plt.show()"
   ]
  },
  {
   "cell_type": "code",
   "execution_count": 50,
   "metadata": {},
   "outputs": [],
   "source": [
    "\n",
    "transform_test = pca.transform(X_test)\n",
    "# for i in range(pca_data,X_test.shape[0],pca_data):\n",
    "#     try:\n",
    "#         pca_t_img,_ = PCA_decomposition(n_comp,X_test[i:i+pca_data])\n",
    "#         pca_test_img = np.concatenate([pca_test_img,pca_t_img])\n",
    "#     except:\n",
    "#         re_test = (int(X_test[i:i+pca_data].shape[0]*0.9))\n",
    "#         print(re_test)\n",
    "#         pca_remain_img ,_= PCA_decomposition(re_test,X_test[i:i+pca_data])"
   ]
  },
  {
   "cell_type": "code",
   "execution_count": 52,
   "metadata": {},
   "outputs": [
    {
     "data": {
      "text/plain": [
       "array([2, 0, 0, ..., 1, 0, 0])"
      ]
     },
     "execution_count": 52,
     "metadata": {},
     "output_type": "execute_result"
    }
   ],
   "source": [
    "knn = KNeighborsClassifier(n_neighbors=6)\n",
    "knn.fit(transform_train,Y_train)\n",
    "res = knn.predict(transform_test)\n",
    "res"
   ]
  },
  {
   "cell_type": "code",
   "execution_count": 53,
   "metadata": {},
   "outputs": [
    {
     "data": {
      "text/plain": [
       "0.283618984838497"
      ]
     },
     "execution_count": 53,
     "metadata": {},
     "output_type": "execute_result"
    }
   ],
   "source": [
    "ans = predict_accuracy(res,Y_test)\n",
    "ans"
   ]
  },
  {
   "cell_type": "code",
   "execution_count": null,
   "metadata": {},
   "outputs": [],
   "source": []
  },
  {
   "cell_type": "markdown",
   "metadata": {},
   "source": [
    "## SVM test"
   ]
  },
  {
   "cell_type": "code",
   "execution_count": 54,
   "metadata": {},
   "outputs": [],
   "source": [
    "from sklearn import svm"
   ]
  },
  {
   "cell_type": "code",
   "execution_count": 58,
   "metadata": {},
   "outputs": [
    {
     "data": {
      "text/plain": [
       "array([0, 0, 0, ..., 0, 5, 5])"
      ]
     },
     "execution_count": 58,
     "metadata": {},
     "output_type": "execute_result"
    }
   ],
   "source": [
    "clf = svm.SVC()\n",
    "clf.fit(transform_train,Y_train)\n",
    "res = clf.predict(transform_test)\n",
    "res"
   ]
  },
  {
   "cell_type": "code",
   "execution_count": 59,
   "metadata": {},
   "outputs": [
    {
     "data": {
      "text/plain": [
       "0.28526697429136455"
      ]
     },
     "execution_count": 59,
     "metadata": {},
     "output_type": "execute_result"
    }
   ],
   "source": [
    "ans = predict_accuracy(res,Y_test)\n",
    "ans"
   ]
  },
  {
   "cell_type": "code",
   "execution_count": 20,
   "metadata": {},
   "outputs": [],
   "source": [
    "# import pandas as pd\n",
    "# df = pd.read_csv(test_label_file)\n",
    "# df = df.loc[:,['ID','Label']]\n",
    "# df.Label = res.astype(int)\n",
    "# df.head()\n",
    "# df.to_csv('submission.csv', index=False)"
   ]
  },
  {
   "cell_type": "code",
   "execution_count": null,
   "metadata": {},
   "outputs": [],
   "source": []
  }
 ],
 "metadata": {
  "kernelspec": {
   "display_name": "Python 3.8.5 64-bit ('usr')",
   "language": "python",
   "name": "python385jvsc74a57bd0767d51c1340bd893661ea55ea3124f6de3c7a262a8b4abca0554b478b1e2ff90"
  },
  "language_info": {
   "codemirror_mode": {
    "name": "ipython",
    "version": 3
   },
   "file_extension": ".py",
   "mimetype": "text/x-python",
   "name": "python",
   "nbconvert_exporter": "python",
   "pygments_lexer": "ipython3",
   "version": "3.8.5"
  },
  "metadata": {
   "interpreter": {
    "hash": "767d51c1340bd893661ea55ea3124f6de3c7a262a8b4abca0554b478b1e2ff90"
   }
  }
 },
 "nbformat": 4,
 "nbformat_minor": 4
}
